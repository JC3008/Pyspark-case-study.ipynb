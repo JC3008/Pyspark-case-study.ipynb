{
  "nbformat": 4,
  "nbformat_minor": 0,
  "metadata": {
    "colab": {
      "name": "processo_seletivo_myra.ipynb",
      "provenance": [],
      "collapsed_sections": []
    },
    "kernelspec": {
      "name": "python3",
      "display_name": "Python 3"
    },
    "language_info": {
      "name": "python"
    }
  },
  "cells": [
    {
      "cell_type": "markdown",
      "source": [
        ""
      ],
      "metadata": {
        "id": "8d59GNVoPKRg"
      }
    },
    {
      "cell_type": "code",
      "source": [
        ""
      ],
      "metadata": {
        "id": "92WncSn86lNk"
      },
      "execution_count": null,
      "outputs": []
    },
    {
      "cell_type": "markdown",
      "source": [
        "In these first four cells, we get installed pyspark and imported all necessary modelues"
      ],
      "metadata": {
        "id": "l4GvN7yC6mTJ"
      }
    },
    {
      "cell_type": "code",
      "source": [
        "pip install pyspark"
      ],
      "metadata": {
        "colab": {
          "base_uri": "https://localhost:8080/"
        },
        "id": "mM3ARYmCPho9",
        "outputId": "5ed6cf8d-a618-44d6-fa80-a0bacbe06f06"
      },
      "execution_count": 2,
      "outputs": [
        {
          "output_type": "stream",
          "name": "stdout",
          "text": [
            "Collecting pyspark\n",
            "  Downloading pyspark-3.2.1.tar.gz (281.4 MB)\n",
            "\u001b[K     |████████████████████████████████| 281.4 MB 34 kB/s \n",
            "\u001b[?25hCollecting py4j==0.10.9.3\n",
            "  Downloading py4j-0.10.9.3-py2.py3-none-any.whl (198 kB)\n",
            "\u001b[K     |████████████████████████████████| 198 kB 64.3 MB/s \n",
            "\u001b[?25hBuilding wheels for collected packages: pyspark\n",
            "  Building wheel for pyspark (setup.py) ... \u001b[?25l\u001b[?25hdone\n",
            "  Created wheel for pyspark: filename=pyspark-3.2.1-py2.py3-none-any.whl size=281853642 sha256=13f3303653370560801872e5a0647722c60b0c7266faae59f4616f9324ec28e0\n",
            "  Stored in directory: /root/.cache/pip/wheels/9f/f5/07/7cd8017084dce4e93e84e92efd1e1d5334db05f2e83bcef74f\n",
            "Successfully built pyspark\n",
            "Installing collected packages: py4j, pyspark\n",
            "Successfully installed py4j-0.10.9.3 pyspark-3.2.1\n"
          ]
        }
      ]
    },
    {
      "cell_type": "code",
      "execution_count": 3,
      "metadata": {
        "id": "-l10eZotNZYQ"
      },
      "outputs": [],
      "source": [
        "import pyspark\n",
        "from pyspark.sql import SparkSession\n",
        "from pyspark.sql import DataFrame\n",
        "from pyspark.sql import SQLContext\n",
        "from pyspark.sql import functions as F\n",
        "from pyspark import SparkContext,SQLContext\n"
      ]
    },
    {
      "cell_type": "code",
      "source": [
        "spark = SparkSession.builder.getOrCreate()\n",
        "sc = spark.sparkContext"
      ],
      "metadata": {
        "id": "zFPomTy_N7Tx"
      },
      "execution_count": 4,
      "outputs": []
    },
    {
      "cell_type": "code",
      "source": [
        "import pandas as pd\n",
        "import matplotlib.pyplot as plt"
      ],
      "metadata": {
        "id": "iy6mKExBRN8H"
      },
      "execution_count": 5,
      "outputs": []
    },
    {
      "cell_type": "markdown",
      "source": [
        "Next furs cells are for import all necessary datasets from  the mounted googledrive"
      ],
      "metadata": {
        "id": "hV75UQWH69qo"
      }
    },
    {
      "cell_type": "code",
      "source": [
        ""
      ],
      "metadata": {
        "id": "ZJiKi_7S689A"
      },
      "execution_count": null,
      "outputs": []
    },
    {
      "cell_type": "code",
      "source": [
        "spark_orders = spark\\\n",
        ".read\\\n",
        ".option('inferSchema','True')\\\n",
        ".option('header','true')\\\n",
        ".csv(\"/content/drive/MyDrive/Myra_Processo_Seletivo/olist_orders_dataset.csv\")"
      ],
      "metadata": {
        "id": "ZrfVGsXTV9Hy"
      },
      "execution_count": 6,
      "outputs": []
    },
    {
      "cell_type": "code",
      "source": [
        "spark_order_reviews = spark\\\n",
        ".read\\\n",
        ".option('inferSchema','True')\\\n",
        ".option('header','true')\\\n",
        ".csv(\"/content/drive/MyDrive/Myra_Processo_Seletivo/olist_order_reviews_dataset.csv\")"
      ],
      "metadata": {
        "id": "qf_e_vhBZYM0"
      },
      "execution_count": 7,
      "outputs": []
    },
    {
      "cell_type": "code",
      "source": [
        "spark_orders_items = spark\\\n",
        ".read\\\n",
        ".option('inferSchema','True')\\\n",
        ".option('header','true')\\\n",
        ".csv(\"/content/drive/MyDrive/Myra_Processo_Seletivo/olist_order_items_dataset.csv\")"
      ],
      "metadata": {
        "id": "dSuOW9xeZzU7"
      },
      "execution_count": 8,
      "outputs": []
    },
    {
      "cell_type": "code",
      "source": [
        "spark_products = spark\\\n",
        ".read\\\n",
        ".option('inferSchema','True')\\\n",
        ".option('header','true')\\\n",
        ".csv(\"/content/drive/MyDrive/Myra_Processo_Seletivo/olist_products_dataset.csv\")"
      ],
      "metadata": {
        "id": "FPx3hRgWaCYJ"
      },
      "execution_count": 9,
      "outputs": []
    },
    {
      "cell_type": "code",
      "source": [
        ""
      ],
      "metadata": {
        "id": "wnTQQmRQ7POc"
      },
      "execution_count": null,
      "outputs": []
    },
    {
      "cell_type": "markdown",
      "source": [
        "In the next cells I have assigned the test required values to the following variables.\n",
        "(Qtde_Linhas_olist_orders - Qtde_Linhas_olist_order_reviews - Qtde_Linhas_olist_orders_items - Qtde_Linhas_olist_products - volume_total_linhas - top_10_categoria)"
      ],
      "metadata": {
        "id": "JfZQQtPl7Z90"
      }
    },
    {
      "cell_type": "code",
      "source": [
        "'''\n",
        "Here we assign the datasets row counting to the variables.\n",
        "'''\n",
        "Qtde_Linhas_olist_orders = spark_orders.count()\n",
        "Qtde_Linhas_olist_order_reviews = spark_order_reviews.count()\n",
        "Qtde_Linhas_olist_orders_items = spark_orders_items.count()\n",
        "Qtde_Linhas_olist_products = spark_products.count()\n",
        "\n",
        "\n"
      ],
      "metadata": {
        "id": "yZUeku_HXLuW"
      },
      "execution_count": null,
      "outputs": []
    },
    {
      "cell_type": "code",
      "source": [
        "'''\n",
        "Here we join all tables and remove duplicates columns.\n",
        "'''\n",
        "df = spark_orders\\\n",
        ".join(spark_order_reviews, ['order_id'],  'left')\\\n",
        ".join(spark_orders_items, ['order_id'], 'left')\\\n",
        ".join(spark_products, ['product_id'] , 'left')\n",
        "volume_total_linhas = df.count()"
      ],
      "metadata": {
        "id": "m6Q6wyR6jWx4"
      },
      "execution_count": 79,
      "outputs": []
    },
    {
      "cell_type": "code",
      "source": [
        "'''\n",
        "Here we remove all id columns as required\n",
        "'''\n",
        "\n",
        "cols_to_drop = ['product_id','order_id','review_id','customer_id','order_item_id','seller_id']\n",
        "df = df.drop(*cols_to_drop)\n",
        "df.show(5)"
      ],
      "metadata": {
        "colab": {
          "base_uri": "https://localhost:8080/"
        },
        "id": "ZvQIJLhvDtGp",
        "outputId": "980005bb-df30-4ca2-8e1a-ca341b476db4"
      },
      "execution_count": 220,
      "outputs": [
        {
          "output_type": "stream",
          "name": "stdout",
          "text": [
            "+------------+------------------------+-------------------+----------------------------+-----------------------------+-----------------------------+------------+--------------------+----------------------+--------------------+-----------------------+-------------------+-----+-------------+---------------------+-------------------+--------------------------+------------------+----------------+-----------------+-----------------+----------------+---------+\n",
            "|order_status|order_purchase_timestamp|  order_approved_at|order_delivered_carrier_date|order_delivered_customer_date|order_estimated_delivery_date|review_score|review_comment_title|review_comment_message|review_creation_date|review_answer_timestamp|shipping_limit_date|price|freight_value|product_category_name|product_name_lenght|product_description_lenght|product_photos_qty|product_weight_g|product_length_cm|product_height_cm|product_width_cm|avaliacao|\n",
            "+------------+------------------------+-------------------+----------------------------+-----------------------------+-----------------------------+------------+--------------------+----------------------+--------------------+-----------------------+-------------------+-----+-------------+---------------------+-------------------+--------------------------+------------------+----------------+-----------------+-----------------+----------------+---------+\n",
            "|   delivered|     2017-12-11 15:43:06|2017-12-11 15:51:22|         2017-12-18 18:35:20|          2017-12-28 17:43:32|          2018-01-08 00:00:00|           3|                null|  o produto muito b...|          2017-12-29|    2018-01-01 18:37:32|2017-12-15 15:51:22|299.0|        91.32| moveis_cozinha_ar...|                 44|                       246|                 1|           25000|               98|               14|              40|   outros|\n",
            "|   delivered|     2018-07-24 20:41:37|2018-07-26 03:24:27|         2018-07-26 14:31:00|          2018-08-07 15:27:45|          2018-08-13 00:00:00|           4|    muito boa a loja|  muito bom o produto.|          2018-08-08|    2018-08-08 18:37:50|2018-07-30 03:24:27|118.7|        22.76|           perfumaria|                 29|                       178|                 1|             400|               19|               13|              19|   outros|\n",
            "|   delivered|     2017-11-18 19:28:06|2017-11-18 19:45:59|         2017-11-22 13:39:59|          2017-12-02 00:28:42|          2017-12-15 00:00:00|           5|                null|  o produto foi exa...|          2017-12-03|    2017-12-05 19:21:58|2017-11-23 19:45:59| 45.0|         27.2|             pet_shop|                 59|                       468|                 3|             450|               30|               10|              20|   outros|\n",
            "|   delivered|     2018-02-13 21:18:39|2018-02-13 22:20:29|         2018-02-14 19:46:34|          2018-02-16 18:17:02|          2018-02-26 00:00:00|           5|                null|                  null|          2018-02-17|    2018-02-18 13:02:51|2018-02-19 20:31:37| 19.9|         8.72|            papelaria|                 38|                       316|                 4|             250|               51|               15|              15|   outros|\n",
            "|   delivered|     2017-10-02 10:56:33|2017-10-02 11:07:15|         2017-10-04 19:55:00|          2017-10-10 21:25:13|          2017-10-18 00:00:00|           4|                null|  não testei o prod...|          2017-10-11|    2017-10-12 03:43:48|2017-10-06 11:07:15|29.99|         8.72| utilidades_domest...|                 40|                       268|                 4|             500|               19|                8|              13|   outros|\n",
            "+------------+------------------------+-------------------+----------------------------+-----------------------------+-----------------------------+------------+--------------------+----------------------+--------------------+-----------------------+-------------------+-----+-------------+---------------------+-------------------+--------------------------+------------------+----------------+-----------------+-----------------+----------------+---------+\n",
            "only showing top 5 rows\n",
            "\n"
          ]
        }
      ]
    },
    {
      "cell_type": "code",
      "source": [
        "'''\n",
        "Creating a temp view in order to use spark.sql in the next cell\n",
        "'''\n",
        "df.createOrReplaceTempView('temp')"
      ],
      "metadata": {
        "id": "tpMBaxACoHT1"
      },
      "execution_count": 100,
      "outputs": []
    },
    {
      "cell_type": "code",
      "source": [
        "'''\n",
        "Here I ran spark.sql to get the first 10 product_category_name, but I could use another method. \n",
        "Later on this notebook I do some the same task by using pyspark.\n",
        "'''\n",
        "\n",
        "top_10_categoria = spark.sql('''\n",
        "select count(1) as volume, product_category_name from temp\n",
        "group by product_category_name\n",
        "order by count(1) desc \n",
        "limit 10\n",
        "''').show()"
      ],
      "metadata": {
        "colab": {
          "base_uri": "https://localhost:8080/"
        },
        "id": "-Q8Yf6SJsxgm",
        "outputId": "2afd7b16-605e-49ab-9a40-6d04b6241ae9"
      },
      "execution_count": null,
      "outputs": [
        {
          "output_type": "stream",
          "name": "stdout",
          "text": [
            "+------+---------------------+\n",
            "|volume|product_category_name|\n",
            "+------+---------------------+\n",
            "| 11270|      cama_mesa_banho|\n",
            "|  9727|         beleza_saude|\n",
            "|  8700|        esporte_lazer|\n",
            "|  8415|     moveis_decoracao|\n",
            "|  7894| informatica_acess...|\n",
            "|  6989| utilidades_domest...|\n",
            "|  6001|   relogios_presentes|\n",
            "|  4550|            telefonia|\n",
            "|  4361|   ferramentas_jardim|\n",
            "|  4256|           automotivo|\n",
            "+------+---------------------+\n",
            "\n"
          ]
        }
      ]
    },
    {
      "cell_type": "code",
      "source": [
        "'''\n",
        "In this cell we use built in functions to_date and lower in order to remove the time from the column review_creation_date\n",
        "and to change to lower case either the columns review_comment_message and review_comment_title.\n",
        "'''\n",
        "df = df.withColumn(\"review_creation_date\",F.to_date('review_creation_date'))\n",
        "df = df.withColumn(\"review_comment_message\",F.lower('review_comment_message'))\n",
        "df = df.withColumn(\"review_comment_title\",F.lower('review_comment_title'))\n"
      ],
      "metadata": {
        "id": "9X548xoIuGCh"
      },
      "execution_count": 80,
      "outputs": []
    },
    {
      "cell_type": "code",
      "source": [
        "'''\n",
        "here we create the column 'avaliacao' by importing When function and applying against columns review_comment_title and review_comment_message\n",
        "'''\n",
        "\n",
        "from pyspark.sql.functions import when\n",
        "df_spark = df.withColumn('avaliacao',\\\n",
        "                    when(df.review_comment_message.contains(\"adorei\"),\"bom\")\\\n",
        "                    .when(df.review_comment_message.contains(\"eficiente\"),\"bom\")\\\n",
        "                    .when(df.review_comment_message.contains(\"confiável\"),\"bom\")\\\n",
        "                    .when(df.review_comment_message.contains(\"pessimo\"),\"pessimo\")\\\n",
        "                    .when(df.review_comment_title.contains(\"adorei\"),\"bom\")\\\n",
        "                    .when(df.review_comment_title.contains(\"eficiente\"),\"bom\")\\\n",
        "                    .when(df.review_comment_title.contains(\"confiável\"),\"bom\")\\\n",
        "                    .when(df.review_comment_title.contains(\"pessimo\"),\"pessimo\")\\\n",
        "                    .otherwise('outros'))"
      ],
      "metadata": {
        "id": "SL9T5CFpYw6w"
      },
      "execution_count": 127,
      "outputs": []
    },
    {
      "cell_type": "code",
      "source": [
        ""
      ],
      "metadata": {
        "id": "QqVMD4VI-UJR"
      },
      "execution_count": null,
      "outputs": []
    },
    {
      "cell_type": "markdown",
      "source": [
        "From now onward we have some charts to visualize the handled data so far."
      ],
      "metadata": {
        "id": "fEPfUjrC-Vgx"
      }
    },
    {
      "cell_type": "code",
      "source": [
        "'''\n",
        "In this cell I created a new pandas dataframe with reviews counting, and then I ploted it into a pie chart \n",
        "'''\n",
        "\n",
        "chart = df_spark\\\n",
        ".filter(\"avaliacao <> 'outros' \")\\\n",
        ".groupBy('avaliacao').count()\\\n",
        ".toPandas()\n",
        "\n",
        "reviews = chart.avaliacao.to_list()\n",
        "qtde = chart['count'].astype(int).to_list()\n",
        "\n",
        "pie_chart = pd.Series(qtde, index=reviews, name='Reviews')\n",
        "pie_chart.plot.pie(fontsize=11, autopct='%.2f', figsize=(6, 6));\n",
        "\n",
        "\n"
      ],
      "metadata": {
        "colab": {
          "base_uri": "https://localhost:8080/",
          "height": 381
        },
        "id": "V6hRE6e9jv9k",
        "outputId": "0522cc3b-3fe5-4947-c38e-2821ee90e438"
      },
      "execution_count": 175,
      "outputs": [
        {
          "output_type": "display_data",
          "data": {
            "text/plain": [
              "<Figure size 432x432 with 1 Axes>"
            ],
            "image/png": "[encoded data removed]"
          },
          "metadata": {}
        }
      ]
    },
    {
      "cell_type": "code",
      "source": [
        "'''The same as the previous cell, but using bar chart'''\n",
        "\n",
        "chart = df_spark\\\n",
        ".filter(\"avaliacao <> 'outros' \")\\\n",
        ".groupBy('avaliacao').count()\\\n",
        ".toPandas()\n",
        "\n",
        "reviews = chart.avaliacao.to_list()\n",
        "qtde = chart['count'].astype(int).to_list()\n",
        "\n",
        "bar = pd.Series(qtde, index=reviews, name='Reviews')\n",
        "bar.plot.bar(fontsize=11,  figsize=(6, 6));"
      ],
      "metadata": {
        "colab": {
          "base_uri": "https://localhost:8080/",
          "height": 430
        },
        "id": "jmu6OQUqvdWF",
        "outputId": "2bf006bc-9292-4cf7-a24e-4f091c24b393"
      },
      "execution_count": 177,
      "outputs": [
        {
          "output_type": "display_data",
          "data": {
            "text/plain": [
              "<Figure size 432x432 with 1 Axes>"
            ],
            "image/png": "[encoded data removed]"
          },
          "metadata": {}
        }
      ]
    },
    {
      "cell_type": "code",
      "source": [
        "'''Created a top 6 sum_price dataframe'''\n",
        "\n",
        "top_6_price = df\\\n",
        ".groupBy(\"product_category_name\")\\\n",
        ".agg(sum(\"price\")\\\n",
        ".alias(\"sum_price\"))\\\n",
        ".sort(desc(\"sum_price\"))\\\n",
        ".limit(6)\n",
        "  \n",
        "# top_6_price.show()\n",
        "  "
      ],
      "metadata": {
        "colab": {
          "base_uri": "https://localhost:8080/"
        },
        "id": "E-yI0Ighz_Mx",
        "outputId": "970390d5-ddfe-44e8-f583-c84857e0569c"
      },
      "execution_count": 230,
      "outputs": [
        {
          "output_type": "stream",
          "name": "stdout",
          "text": [
            "+---------------------+------------------+\n",
            "|product_category_name|         sum_price|\n",
            "+---------------------+------------------+\n",
            "|         beleza_saude|1263138.5400000177|\n",
            "|   relogios_presentes|1206075.3300000136|\n",
            "|      cama_mesa_banho|1050936.6100000404|\n",
            "|        esporte_lazer|  993656.510000022|\n",
            "| informatica_acess...| 919640.5400000147|\n",
            "|     moveis_decoracao| 736282.4700000079|\n",
            "+---------------------+------------------+\n",
            "\n"
          ]
        }
      ]
    },
    {
      "cell_type": "code",
      "source": [
        "\n",
        "'''the same top 6 just created, but viewd in bars'''\n",
        "top_6_price = top_6_price.toPandas()\n",
        "\n",
        "category = top_6_price.product_category_name.to_list()\n",
        "price = top_6_price.sum_price.astype(float).to_list()\n",
        "\n",
        "bar = pd.Series(price, index=category, name='Reviews')\n",
        "bar.plot.bar(fontsize=11,  figsize=(10, 6));\n",
        "\n"
      ],
      "metadata": {
        "colab": {
          "base_uri": "https://localhost:8080/",
          "height": 525
        },
        "id": "LfTYV49H0tMT",
        "outputId": "daaff5c4-3cb7-43bb-cd0d-d9d44e3b332e"
      },
      "execution_count": 233,
      "outputs": [
        {
          "output_type": "display_data",
          "data": {
            "text/plain": [
              "<Figure size 720x432 with 1 Axes>"
            ],
            "image/png": "[encoded data removed]"
          },
          "metadata": {}
        }
      ]
    },
    {
      "cell_type": "code",
      "source": [
        "# Qtde_Linhas_olist_orders\n",
        "# Qtde_Linhas_olist_order_reviews\n",
        "# Qtde_Linhas_olist_orders_items\n",
        "# Qtde_Linhas_olist_products\n",
        "# volume_total_linhas\n",
        "# top_10_categoria"
      ],
      "metadata": {
        "id": "hBadhVrShqpa"
      },
      "execution_count": null,
      "outputs": []
    }
  ]
}